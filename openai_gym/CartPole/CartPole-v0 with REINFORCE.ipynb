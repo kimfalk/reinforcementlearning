{
 "cells": [
  {
   "cell_type": "markdown",
   "metadata": {},
   "source": [
    "# Solving CartPole-v0 with the policy gradient algorithm REINFORCE\n",
    "\n",
    "The following is an implementation of the [REINFORCE]() algorithm described in ([Policy Gradient Methods for\n",
    "Reinforcement Learning with Function Approximation](https://papers.nips.cc/paper/1713-policy-gradient-methods-for-reinforcement-learning-with-function-approximation.pdf)).\n",
    "\n",
    "The environment Cartpole-v0 is used to test the algorithm, was created by OpenAi and is described in more detail here cartpolev0 and here doc.\n",
    "\n",
    "If the algorithm manages to execute the simulation of the cartpole for a 100 episodes, keeping it balanced for more then 195 steps the environment is said to be solved."
   ]
  },
  {
   "cell_type": "code",
   "execution_count": 1,
   "metadata": {},
   "outputs": [],
   "source": [
    "import numpy as np\n",
    "import gym\n",
    "import torch\n",
    "import torch.nn as nn\n",
    "import torch.nn.functional as F\n",
    "from collections import deque\n",
    "from matplotlib import pyplot as plt\n",
    "from tqdm.notebook import trange, tqdm"
   ]
  },
  {
   "cell_type": "code",
   "execution_count": 2,
   "metadata": {},
   "outputs": [],
   "source": [
    "def print_step(state, reward, done, info):\n",
    "    print(f\"state: {state},\\nreward: {reward},\\ndone: {done},\\ninfo: {info}\")"
   ]
  },
  {
   "cell_type": "markdown",
   "metadata": {},
   "source": [
    "A quick look at the environment:"
   ]
  },
  {
   "cell_type": "code",
   "execution_count": 3,
   "metadata": {},
   "outputs": [],
   "source": [
    "env = gym.make('CartPole-v0')"
   ]
  },
  {
   "cell_type": "code",
   "execution_count": 4,
   "metadata": {},
   "outputs": [
    {
     "name": "stdout",
     "output_type": "stream",
     "text": [
      "state: [-0.03463957  0.18047958 -0.00039097 -0.28770428],\n",
      "reward: 1.0,\n",
      "done: False,\n",
      "info: {}\n"
     ]
    }
   ],
   "source": [
    "initial_state = env.reset()\n",
    "action = env.action_space.sample()\n",
    "state, reward, done, info = env.step(action)\n",
    "print_step(state, reward, done, info)"
   ]
  },
  {
   "cell_type": "code",
   "execution_count": 5,
   "metadata": {},
   "outputs": [],
   "source": [
    "def running_mean(x, N=50):\n",
    "    kernel = np.ones(N)\n",
    "    conv_len = x.shape[0]-N\n",
    "    y = np.zeros(conv_len)\n",
    "    for i in range(conv_len):\n",
    "        y[i] = kernel @ x[i:i+N]\n",
    "        y[i] /= N\n",
    "    return y"
   ]
  },
  {
   "cell_type": "markdown",
   "metadata": {},
   "source": [
    "Create the policy network"
   ]
  },
  {
   "cell_type": "code",
   "execution_count": 99,
   "metadata": {},
   "outputs": [],
   "source": [
    "class PolicyNetwork(nn.Module):\n",
    "    \n",
    "    def __init__(self, \n",
    "                 input_dim=4, \n",
    "                 hidden_dim=[32, 32], \n",
    "                 output_dim=2):\n",
    "        super(PolicyNetwork, self).__init__()\n",
    "        self.output_dim = output_dim\n",
    "        self.input_layer = nn.Linear(input_dim, hidden_dim[0])\n",
    "        \n",
    "        self.hidden_layers = nn.ModuleList()\n",
    "        for i in range(len(hidden_dim) - 1):\n",
    "            hidden_layer = nn.Linear(hidden_dim[i], hidden_dim[i+1])\n",
    "            self.hidden_layers.append(hidden_layer)\n",
    "        \n",
    "        self.output_layer = nn.Linear(hidden_dim[-1], output_dim)\n",
    "        \n",
    "    def forward(self, state):\n",
    "        \n",
    "        x = F.relu(self.input_layer(state))\n",
    "        for hidden in self.hidden_layers:\n",
    "            x = F.leaky_relu(hidden(x))\n",
    "        x = F.softmax(self.output_layer(x), dim=-1)\n",
    "        \n",
    "        return x\n",
    "    \n",
    "model = PolicyNetwork()\n",
    "learning_rate = 0.009\n",
    "optimizer = torch.optim.Adam(model.parameters(), lr=learning_rate)"
   ]
  },
  {
   "cell_type": "code",
   "execution_count": 100,
   "metadata": {},
   "outputs": [
    {
     "name": "stdout",
     "output_type": "stream",
     "text": [
      "pred:  tensor([0.6076, 0.3924], grad_fn=<SoftmaxBackward>)\n",
      "state: [ 0.02744662 -0.21653217 -0.0163334   0.32637974],\n",
      "reward: 1.0,\n",
      "done: False,\n",
      "info: {}\n"
     ]
    }
   ],
   "source": [
    "initial_state = env.reset()\n",
    "pred = model(torch.from_numpy(initial_state).float())\n",
    "action = np.random.choice(np.array([0,1]), p=pred.data.numpy())\n",
    "state, reward, done, info = env.step(action)\n",
    "print(\"pred: \",pred)\n",
    "print_step(state, reward, done, info)"
   ]
  },
  {
   "cell_type": "code",
   "execution_count": 101,
   "metadata": {},
   "outputs": [],
   "source": [
    "def discount_rewards(rewards, gamma=.99):\n",
    "    lenr = len(rewards)\n",
    "    discounted_return = torch.pow(gamma, torch.arange(lenr).float()) * rewards\n",
    "    discounted_return /= discounted_return.max()\n",
    "    return discounted_return.flip(dims=(0,))"
   ]
  },
  {
   "cell_type": "code",
   "execution_count": 102,
   "metadata": {},
   "outputs": [],
   "source": [
    "def loss_fn(preds, rewards):\n",
    "    #self.loss = -tf.reduce_mean(tf.log(selected_action_prob) * self.rewards)\n",
    "    return -1 * torch.mean(rewards * torch.log(preds))\n"
   ]
  },
  {
   "cell_type": "markdown",
   "metadata": {},
   "source": [
    "Training the REINFORCE ALGORITHM"
   ]
  },
  {
   "cell_type": "code",
   "execution_count": 103,
   "metadata": {},
   "outputs": [
    {
     "data": {
      "application/vnd.jupyter.widget-view+json": {
       "model_id": "9f805b8b617547e285b1f264bbabbd68",
       "version_major": 2,
       "version_minor": 0
      },
      "text/plain": [
       "HBox(children=(FloatProgress(value=0.0, max=5000.0), HTML(value='')))"
      ]
     },
     "metadata": {},
     "output_type": "display_data"
    },
    {
     "name": "stdout",
     "output_type": "stream",
     "text": [
      "Episode 0\tAverage Score: 13.00\n",
      "{0: 9, 1: 4}\n",
      "Episode 100\tAverage Score: 22.93\n",
      "{0: 1317, 1: 989}\n",
      "Episode 200\tAverage Score: 43.79\n",
      "{0: 3497, 1: 3188}\n",
      "Episode 300\tAverage Score: 36.36\n",
      "{0: 5457, 1: 4864}\n",
      "Episode 400\tAverage Score: 86.78\n",
      "{0: 10243, 1: 8756}\n",
      "Episode 500\tAverage Score: 119.14\n",
      "{0: 16732, 1: 14181}\n",
      "Episode 600\tAverage Score: 166.34\n",
      "{0: 25290, 1: 22257}\n",
      "Episode 700\tAverage Score: 184.92\n",
      "{0: 34405, 1: 31634}\n",
      "\n",
      "Environment solved in 625 episodes!\tAverage Score: 195.31\n",
      "\n"
     ]
    }
   ],
   "source": [
    "MAX_DUR = 200\n",
    "MAX_EPISODES = 5000\n",
    "gamma = 0.99\n",
    "\n",
    "action_space = np.array([0,1])\n",
    "score = []\n",
    "actions_taken = {}\n",
    "\n",
    "scores_window = deque(maxlen=100)\n",
    "\n",
    "def interact_with_environment():\n",
    "    #start the environment.\n",
    "    state = env.reset()\n",
    "    done = False\n",
    "    experiences = []\n",
    "    episode_reward = 0\n",
    "    #interacting with the environment, continue untill the pole falls (done == True) or max 200 steps. \n",
    "    for t in range(MAX_DUR):\n",
    "        action_prob = model(torch.from_numpy(state).float()).detach()\n",
    "        \n",
    "        action = np.random.choice(action_space, p=action_prob.data.numpy())\n",
    "        \n",
    "        actions_taken[action] = 1 + actions_taken.get(action, 0)\n",
    "        \n",
    "        next_state, reward, done, info = env.step(action)\n",
    "        \n",
    "        experiences.append((state, action, reward * (1-done)))\n",
    "        episode_reward += 1\n",
    "        state = next_state\n",
    "        # the pole fell. \n",
    "        if done:\n",
    "            break\n",
    "    return experiences, episode_reward, done\n",
    "    \n",
    "def train_model(experiences):\n",
    "    # train the model\n",
    "    \n",
    "    sum_reward = 0\n",
    "    discnt_rewards = []\n",
    "    rewards = [r for (s,a,r) in experiences]\n",
    "    rewards.reverse()\n",
    "    for r in rewards:\n",
    "        sum_reward = r + gamma * sum_reward\n",
    "        discnt_rewards.append(sum_reward)\n",
    "    discnt_rewards.reverse()\n",
    "    reward_batch = torch.Tensor(discnt_rewards)\n",
    "    \n",
    "    #reward_batch = torch.Tensor([r for (s,a,r) in experiences]).flip(dims=(0,))\n",
    "    discounted_reward = torch.Tensor(reward_batch)\n",
    "    \n",
    "    state_batch = torch.Tensor([s for (s,a,r) in experiences])\n",
    "    action_batch = torch.Tensor([a for (s,a,r) in experiences])\n",
    "    pred_batch = model(state_batch)\n",
    "    prob_batch = pred_batch.gather(dim=1, index=action_batch.long().view(-1,1)).squeeze()\n",
    "\n",
    "    loss = loss_fn(prob_batch, discounted_reward)\n",
    "    optimizer.zero_grad()\n",
    "    loss.backward()\n",
    "    optimizer.step()\n",
    "    \n",
    "    \n",
    "    \n",
    "for episode in tqdm(range(MAX_EPISODES)):\n",
    "\n",
    "    experiences, rewards, done = interact_with_environment()\n",
    "    scores_window.append(rewards)\n",
    "    ep_len = len(experiences)\n",
    "    score.append(ep_len)\n",
    "    if done: \n",
    "        train_model(experiences)\n",
    "    \n",
    "    if episode % 100 == 0:\n",
    "                print('\\rEpisode {}\\tAverage Score: {:.2f}'.format(episode, np.mean(scores_window)))\n",
    "                print(actions_taken)\n",
    "    if np.mean(scores_window) >= 195:\n",
    "        print('\\nEnvironment solved in {:d} episodes!\\tAverage Score: {:.2f}'.format(episode - 100,\n",
    "                                                                      np.mean(scores_window)))\n",
    "        torch.save(model.state_dict(), 'checkpoint.pth')\n",
    "        break\n",
    "    \n",
    "        "
   ]
  },
  {
   "cell_type": "code",
   "execution_count": null,
   "metadata": {},
   "outputs": [],
   "source": []
  },
  {
   "cell_type": "code",
   "execution_count": 104,
   "metadata": {},
   "outputs": [
    {
     "data": {
      "text/plain": [
       "[<matplotlib.lines.Line2D at 0x13112c190>]"
      ]
     },
     "execution_count": 104,
     "metadata": {},
     "output_type": "execute_result"
    },
    {
     "data": {
      "image/png": "[encoded data removed]",
      "text/plain": [
       "<Figure size 720x504 with 1 Axes>"
      ]
     },
     "metadata": {
      "needs_background": "light"
     },
     "output_type": "display_data"
    }
   ],
   "source": [
    "score = np.array(score)\n",
    "avg_score = running_mean(score, 50)\n",
    "\n",
    "plt.figure(figsize=(10,7))\n",
    "plt.ylabel(\"Episode Duration\",fontsize=22)\n",
    "plt.xlabel(\"Training Epochs\",fontsize=22)\n",
    "plt.plot(avg_score, color='green')\n"
   ]
  },
  {
   "cell_type": "markdown",
   "metadata": {},
   "source": []
  }
 ],
 "metadata": {
  "kernelspec": {
   "display_name": "Python 3",
   "language": "python",
   "name": "python3"
  },
  "language_info": {
   "codemirror_mode": {
    "name": "ipython",
    "version": 3
   },
   "file_extension": ".py",
   "mimetype": "text/x-python",
   "name": "python",
   "nbconvert_exporter": "python",
   "pygments_lexer": "ipython3",
   "version": "3.8.5"
  }
 },
 "nbformat": 4,
 "nbformat_minor": 4
}
