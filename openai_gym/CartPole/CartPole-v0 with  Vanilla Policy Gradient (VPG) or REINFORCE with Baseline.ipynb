{
 "cells": [
  {
   "cell_type": "markdown",
   "metadata": {},
   "source": [
    "# Solving CartPole-v0 with the Vanilla Policy Gradient algorithm\n",
    "\n",
    "The following is an implementation of the  Vanilla Policy Gradient (VPG) also known as REINFORCE with baseline. \n",
    "\n",
    "REINFORCE was improved to use a baseline to avoid the large variance due to the Monte carlo targets. \n",
    "\n",
    "```The accumulation of random events along a trajectory, including the initial state sampled from the initial state distribution, transition function probabilities, but now in this chapter with stochastic policies, the randomness action selection adds to the mix. All this randomness is compounded inside the return, making it a high-variance signal challenging to interpret.``` [__Grokking Deep Reinforcement learning__](https://livebook.manning.com/book/grokking-deep-reinforcement-learning/chapter-11/v-14/point-8971-43-43-0)\n",
    "\n",
    "To get around this we will look at how big an advantage an action has over the others. To do this we will need a value function, that estimates the value of the current state. The advantage can then be calculated as the actual return - the value of the state. Using the advantage will create feedback which is more or less centered around zero, and it therefore better to train your agent. \n",
    "\n",
    "The environment Cartpole-v0 is used to test the algorithm, was created by OpenAi and is described in more detail here [cartpolev0]() and here [doc]().\n",
    "\n",
    "If the algorithm manages to execute the simulation of the cartpole for a 100 episodes, keeping it balanced for more then 195 steps the environment is said to be solved."
   ]
  },
  {
   "cell_type": "code",
   "execution_count": 1,
   "metadata": {},
   "outputs": [],
   "source": [
    "import numpy as np\n",
    "import gym\n",
    "import torch\n",
    "import torch.nn as nn\n",
    "import torch.nn.functional as F\n",
    "from collections import deque\n",
    "from matplotlib import pyplot as plt\n",
    "from tqdm.notebook import trange, tqdm"
   ]
  },
  {
   "cell_type": "code",
   "execution_count": 2,
   "metadata": {},
   "outputs": [],
   "source": [
    "def print_step(state, reward, done, info):\n",
    "    print(f\"state: {state},\\nreward: {reward},\\ndone: {done},\\ninfo: {info}\")"
   ]
  },
  {
   "cell_type": "markdown",
   "metadata": {},
   "source": [
    "A quick look at the environment:"
   ]
  },
  {
   "cell_type": "code",
   "execution_count": 3,
   "metadata": {},
   "outputs": [],
   "source": [
    "env = gym.make('CartPole-v0')"
   ]
  },
  {
   "cell_type": "code",
   "execution_count": 4,
   "metadata": {},
   "outputs": [
    {
     "name": "stdout",
     "output_type": "stream",
     "text": [
      "state: [ 0.00625815  0.23923074  0.02483072 -0.31445976],\n",
      "reward: 1.0,\n",
      "done: False,\n",
      "info: {}\n"
     ]
    }
   ],
   "source": [
    "initial_state = env.reset()\n",
    "action = env.action_space.sample()\n",
    "state, reward, done, info = env.step(action)\n",
    "print_step(state, reward, done, info)"
   ]
  },
  {
   "cell_type": "code",
   "execution_count": 5,
   "metadata": {},
   "outputs": [],
   "source": [
    "def running_mean(x, N=50):\n",
    "    kernel = np.ones(N)\n",
    "    conv_len = x.shape[0]-N\n",
    "    y = np.zeros(conv_len)\n",
    "    for i in range(conv_len):\n",
    "        y[i] = kernel @ x[i:i+N]\n",
    "        y[i] /= N\n",
    "    return y"
   ]
  },
  {
   "cell_type": "markdown",
   "metadata": {},
   "source": [
    "## Neural network approximating the policy"
   ]
  },
  {
   "cell_type": "code",
   "execution_count": 14,
   "metadata": {},
   "outputs": [],
   "source": [
    "class PolicyNetwork(nn.Module):\n",
    "    \"\"\"\n",
    "        Fully-Connected Descrete-Action Policy network\n",
    "    \"\"\"\n",
    "    \n",
    "    \n",
    "    def __init__(self, \n",
    "                 input_dim=4, \n",
    "                 hidden_dim=[32, 32], \n",
    "                 output_dim=2):\n",
    "        super(PolicyNetwork, self).__init__()\n",
    "        self.output_dim = output_dim\n",
    "        self.input_layer = nn.Linear(input_dim, hidden_dim[0])\n",
    "        \n",
    "        self.hidden_layers = nn.ModuleList()\n",
    "        for i in range(len(hidden_dim) - 1):\n",
    "            hidden_layer = nn.Linear(hidden_dim[i], hidden_dim[i+1])\n",
    "            self.hidden_layers.append(hidden_layer)\n",
    "        \n",
    "        self.output_layer = nn.Linear(hidden_dim[-1], output_dim)\n",
    "        \n",
    "    def forward(self, state):\n",
    "        \n",
    "        x = state\n",
    "        if not isinstance(x, torch.Tensor):\n",
    "            x = torch.tensor(x, \n",
    "                             dtype=torch.float32)\n",
    "            x = x.unsqueeze(0)\n",
    "        \n",
    "        x = F.relu(self.input_layer(x))\n",
    "        for hidden in self.hidden_layers:\n",
    "            x = F.leaky_relu(hidden(x))\n",
    "        \n",
    "        return self.output_layer(x)\n",
    "    \n",
    "    def full_forward_pass(self, state):\n",
    "        \"\"\"\n",
    "            Given a state return:\n",
    "            * action - what action is best to take. \n",
    "            * is_exploritory - was the action different from the greedy one\n",
    "            * logpa - the probability distribution of the actions. \n",
    "            * entropy - how uniform is the probilities. \n",
    "        \"\"\"\n",
    "        \n",
    "        # run the state through the network\n",
    "        logits = self.forward(state) \n",
    "        \n",
    "        # create a probability distribution\n",
    "        dist = torch.distributions.Categorical(logits=logits) \n",
    "        \n",
    "        # sample an action from the distribution\n",
    "        action = dist.sample()\n",
    "        \n",
    "        # what was the log probability of the action  \n",
    "        logpa = dist.log_prob(action).unsqueeze(-1)\n",
    "        \n",
    "        # entropy of the distribution.\n",
    "        entropy = dist.entropy().unsqueeze(-1)\n",
    "        \n",
    "        # did we sample the greedy action?\n",
    "        is_explortionary = action != np.argmax(logits.detach().numpy())\n",
    "        \n",
    "        return action.item(), is_explortionary.item(), logpa, entropy\n",
    "                \n",
    "policy_model = PolicyNetwork()\n",
    "learning_rate = 0.009\n",
    "policy_optimizer = torch.optim.Adam(policy_model.parameters(), lr=learning_rate)"
   ]
  },
  {
   "cell_type": "markdown",
   "metadata": {},
   "source": [
    "## Network which approximates the state value function"
   ]
  },
  {
   "cell_type": "code",
   "execution_count": 7,
   "metadata": {},
   "outputs": [],
   "source": [
    "class StateValueNetwork(nn.Module):\n",
    "    \n",
    "    def __init__(self,\n",
    "                 input_dim=4,\n",
    "                 hidden_dim=[32, 32],\n",
    "                 output_dim=1):\n",
    "        super(StateValueNetwork, self).__init__()\n",
    "        self.output_dim = output_dim\n",
    "        \n",
    "        self.input_layer = nn.Linear(input_dim, hidden_dim[0])\n",
    "        self.hidden_layers = nn.ModuleList()\n",
    "        for i in range(len(hidden_dim) - 1):\n",
    "            hidden_layer = nn.Linear(hidden_dim[i], hidden_dim[i+1])\n",
    "            self.hidden_layers.append(hidden_layer)\n",
    "        \n",
    "        self.output_layer = nn.Linear(hidden_dim[-1], output_dim)\n",
    "        \n",
    "    def forward(self, state):\n",
    "        \n",
    "        x = state\n",
    "        if not isinstance(x, torch.Tensor):\n",
    "            x = torch.tensor(x, \n",
    "                             dtype=torch.float32)\n",
    "            x = x.unsqueeze(0)\n",
    "            \n",
    "        x = F.relu(self.input_layer(x))\n",
    "        for hidden in self.hidden_layers:\n",
    "            x = F.leaky_relu(hidden(x))\n",
    "        \n",
    "        return self.output_layer(x)\n",
    "    \n",
    "V = StateValueNetwork()\n",
    "value_optimizer = torch.optim.Adam(V.parameters(), lr=learning_rate)\n",
    "        "
   ]
  },
  {
   "cell_type": "code",
   "execution_count": 8,
   "metadata": {},
   "outputs": [
    {
     "name": "stdout",
     "output_type": "stream",
     "text": [
      "Categorical(logits: torch.Size([2]))\n",
      "0\n",
      "pred:  Categorical(probs: torch.Size([2]), logits: torch.Size([2]))\n",
      "state: [ 0.00926817 -0.15603818 -0.03036579  0.24913162],\n",
      "reward: 1.0,\n",
      "done: False,\n",
      "info: {}\n"
     ]
    }
   ],
   "source": [
    "initial_state = env.reset()\n",
    "pred = policy_model(torch.from_numpy(initial_state).float())\n",
    "dist = torch.distributions.Categorical(logits=pred) \n",
    "print(dist)\n",
    "action = np.random.choice(np.array([0,1]), p=dist.probs.detach().numpy())\n",
    "print(action)\n",
    "state, reward, done, info = env.step(action)\n",
    "print(\"pred: \",dist)\n",
    "print_step(state, reward, done, info)"
   ]
  },
  {
   "cell_type": "code",
   "execution_count": 9,
   "metadata": {},
   "outputs": [
    {
     "data": {
      "text/plain": [
       "(array([5.880997, 4.9303  , 3.97    , 3.      ]),\n",
       " array([1.      , 0.99    , 0.9801  , 0.970299]))"
      ]
     },
     "execution_count": 9,
     "metadata": {},
     "output_type": "execute_result"
    }
   ],
   "source": [
    "def discount_rewards(rewards, gamma=.99):\n",
    "    \"\"\" reduces the rewards by a discount, here by gamma.\"\"\"\n",
    "    \n",
    "    T = len(rewards)\n",
    "    discounts = np.logspace(0, T, num=T, base=gamma, endpoint=False)\n",
    "    returns = np.array([np.sum(discounts[:T-t] * rewards[t:]) for t in range(T)])\n",
    "\n",
    "    return returns, discounts\n",
    "\n",
    "discount_rewards([1,1,1,3])\n"
   ]
  },
  {
   "cell_type": "code",
   "execution_count": 11,
   "metadata": {},
   "outputs": [],
   "source": [
    "class Vpg():\n",
    "    \n",
    "    def __init__(self,\n",
    "                policy, \n",
    "                state_value,\n",
    "                policy_optimizer,\n",
    "                value_optimizer,\n",
    "                beta=0.001 # entropy loss weight\n",
    "                ):\n",
    "        self.policy_model = policy\n",
    "        self.state_value_model = state_value\n",
    "        self.beta = beta\n",
    "        self.experiences = []\n",
    "        self.entropies = []\n",
    "        self.episode_exploration = []\n",
    "        self.logpa = []\n",
    "        self.values = []\n",
    "        self.actions_taken = {}\n",
    "        self.policy_optimizer = policy_optimizer\n",
    "        self.value_optimizer= value_optimizer\n",
    "        \n",
    "        self.policy_model_max_grad_norm = 1\n",
    "        self.value_model_max_grad_norm = float('inf')\n",
    "\n",
    "    def interact(self):\n",
    "        #start the environment.\n",
    "        state = env.reset()\n",
    "        done = False\n",
    "        experiences = []\n",
    "        episode_reward = 0\n",
    "        # interacting with the environment, continue \n",
    "        # until the pole falls (done == True) or max 200 steps. \n",
    "        for t in range(MAX_DUR):\n",
    "            # use the policy to select an action\n",
    "            action, is_explortionary, logpa, entropy = self.policy_model.full_forward_pass(state)\n",
    "            \n",
    "            self.actions_taken[action] = 1 + self.actions_taken.get(action, 0)\n",
    "\n",
    "            # interact with the environment.\n",
    "            next_state, reward, done, info = env.step(action)\n",
    "\n",
    "            self.logpa.append(logpa)\n",
    "            self.experiences.append((state, action, reward * (1-done)))\n",
    "            self.entropies.append(entropy)\n",
    "            self.episode_exploration[-1] += int(is_explortionary)\n",
    "            self.values.append(self.state_value_model(state))\n",
    "            self.rewards.append(reward)\n",
    "\n",
    "            episode_reward += 1\n",
    "            state = next_state\n",
    "            \n",
    "            if done: # the pole fell. \n",
    "                break\n",
    "        return experiences, episode_reward, done        \n",
    "\n",
    "    def optimize_model(self, experences):\n",
    "\n",
    "        sum_reward = 0\n",
    "        discnt_rewards = []\n",
    "        rewards = self.rewards\n",
    "        rewards.reverse()\n",
    "        \n",
    "        # calculate what are the returns for each step\n",
    "        # using discount. \n",
    "        returns, discounts = discount_rewards(rewards)\n",
    "        \n",
    "        #discounted_reward = torch.Tensor(returns)\n",
    "        discounts = torch.FloatTensor(discounts[:-1]).unsqueeze(1)\n",
    "        returns = torch.FloatTensor(returns[:-1]).unsqueeze(1)\n",
    "        \n",
    "        state_batch = torch.Tensor([s for (s,a,r) in self.experiences])\n",
    "        action_batch = torch.Tensor([a for (s,a,r) in self.experiences])\n",
    "\n",
    "        #train policy\n",
    "        pred_batch = self.policy_model.forward(state_batch)\n",
    "        prob_batch = pred_batch.gather(dim=1, index=action_batch.long().view(-1,1)).squeeze()\n",
    "\n",
    "        logpas = torch.cat(self.logpa)\n",
    "        entropies = torch.cat(self.entropies)\n",
    "        values = torch.cat(self.values)\n",
    "\n",
    "        value_error = returns - values\n",
    "        \n",
    "        # how wrong was our policy\n",
    "        policy_loss = -(discounts * value_error.detach() * logpas).mean()\n",
    "        entropy_loss = -(entropies.mean())\n",
    "        loss = policy_loss + self.beta * entropy_loss\n",
    "        \n",
    "        policy_optimizer.zero_grad()\n",
    "        loss.backward()\n",
    "        \n",
    "    \n",
    "        torch.nn.utils.clip_grad_norm_(self.policy_model.parameters(), \n",
    "                                       self.policy_model_max_grad_norm)\n",
    "        self.policy_optimizer.step()\n",
    "        \n",
    "        value_loss = value_error.pow(2).mul(0.5).mean()\n",
    "        value_optimizer.zero_grad()\n",
    "        value_loss.backward()\n",
    "        torch.nn.utils.clip_grad_norm_(self.state_value_model.parameters(), \n",
    "                               self.value_model_max_grad_norm)\n",
    "        self.value_optimizer.step()\n",
    "        \n",
    "        \n",
    "    def train(self):\n",
    "        score = []\n",
    "        actions_taken = {}\n",
    "\n",
    "        scores_window = deque(maxlen=100)\n",
    "\n",
    "        for episode in tqdm(range(MAX_EPISODES)):\n",
    "\n",
    "            self.experiences = []\n",
    "            self.entropies = []\n",
    "            self.logpa = []\n",
    "            self.rewards = []\n",
    "            self.values = []\n",
    "            self.actions_taken = {}\n",
    "            self.episode_exploration.append(0.0)\n",
    "            experiences, rewards, done = self.interact()\n",
    "            scores_window.append(rewards)\n",
    "\n",
    "            score.append(rewards)\n",
    "            if done: \n",
    "                \n",
    "                next_value = 0 # if is_failure else self.state_value_model(state).detach().item()\n",
    "                self.rewards.append(next_value)\n",
    "                self.optimize_model(experiences)\n",
    "                \n",
    "\n",
    "            if episode % 100 == 0:\n",
    "                        print('\\rEpisode {}\\tAverage Score: {:.2f}'.format(episode, np.mean(scores_window)))\n",
    "                        print(self.actions_taken)\n",
    "            if np.mean(scores_window) >= 200:\n",
    "                print('\\nEnvironment solved in {:d} episodes!\\tAverage Score: {:.2f}'.format(episode - 100,\n",
    "                                                                              np.mean(scores_window)))\n",
    "                torch.save(self.policy_model.state_dict(), 'policy_checkpoint.pth')\n",
    "                torch.save(self.state_value_model.state_dict(), 'state_value_checkpoint.pth')\n",
    "                break\n",
    "\n",
    "        \n",
    "        return score\n",
    "    "
   ]
  },
  {
   "cell_type": "markdown",
   "metadata": {},
   "source": [
    "## Training the VPG Algorithm"
   ]
  },
  {
   "cell_type": "code",
   "execution_count": 12,
   "metadata": {},
   "outputs": [
    {
     "data": {
      "application/vnd.jupyter.widget-view+json": {
       "model_id": "8377ef807703421eaa67e342717c6419",
       "version_major": 2,
       "version_minor": 0
      },
      "text/plain": [
       "HBox(children=(HTML(value=''), FloatProgress(value=0.0, max=5000.0), HTML(value='')))"
      ]
     },
     "metadata": {},
     "output_type": "display_data"
    },
    {
     "name": "stdout",
     "output_type": "stream",
     "text": [
      "Episode 0\tAverage Score: 19.00\n",
      "{0: 8, 1: 11}\n",
      "Episode 100\tAverage Score: 28.09\n",
      "{1: 43, 0: 34}\n",
      "Episode 200\tAverage Score: 168.40\n",
      "{0: 101, 1: 99}\n",
      "Episode 300\tAverage Score: 187.61\n",
      "{1: 100, 0: 100}\n",
      "Episode 400\tAverage Score: 196.71\n",
      "{1: 99, 0: 101}\n",
      "\n",
      "Environment solved in 358 episodes!\tAverage Score: 200.00\n",
      "\n"
     ]
    }
   ],
   "source": [
    "MAX_DUR = 200\n",
    "MAX_EPISODES = 5000\n",
    "gamma = 0.99\n",
    "\n",
    "action_space = np.array([0,1])\n",
    "\n",
    "agent = Vpg(policy_model, \n",
    "            V,\n",
    "           policy_optimizer,\n",
    "           value_optimizer)\n",
    "\n",
    "score = agent.train()"
   ]
  },
  {
   "cell_type": "code",
   "execution_count": null,
   "metadata": {},
   "outputs": [],
   "source": []
  },
  {
   "cell_type": "code",
   "execution_count": 13,
   "metadata": {},
   "outputs": [
    {
     "data": {
      "text/plain": [
       "[<matplotlib.lines.Line2D at 0x12eb40040>]"
      ]
     },
     "execution_count": 13,
     "metadata": {},
     "output_type": "execute_result"
    },
    {
     "data": {
      "image/png": "[encoded data removed]",
      "text/plain": [
       "<Figure size 720x504 with 1 Axes>"
      ]
     },
     "metadata": {
      "needs_background": "light"
     },
     "output_type": "display_data"
    }
   ],
   "source": [
    "score = np.array(score)\n",
    "avg_score = running_mean(score, 50)\n",
    "\n",
    "plt.figure(figsize=(10,7))\n",
    "plt.ylabel(\"Episode Duration\",fontsize=22)\n",
    "plt.xlabel(\"Training Epochs\",fontsize=22)\n",
    "plt.plot(avg_score, color='green')\n"
   ]
  },
  {
   "cell_type": "markdown",
   "metadata": {},
   "source": []
  }
 ],
 "metadata": {
  "kernelspec": {
   "display_name": "Python 3",
   "language": "python",
   "name": "python3"
  },
  "language_info": {
   "codemirror_mode": {
    "name": "ipython",
    "version": 3
   },
   "file_extension": ".py",
   "mimetype": "text/x-python",
   "name": "python",
   "nbconvert_exporter": "python",
   "pygments_lexer": "ipython3",
   "version": "3.8.5"
  }
 },
 "nbformat": 4,
 "nbformat_minor": 4
}
