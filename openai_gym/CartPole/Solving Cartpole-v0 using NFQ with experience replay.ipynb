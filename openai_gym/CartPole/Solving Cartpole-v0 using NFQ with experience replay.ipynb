{
 "cells": [
  {
   "cell_type": "markdown",
   "metadata": {},
   "source": [
    "# Solving Cartpole v0 using NFQ with Experience Replay\n",
    "\n",
    "In the following is an implementation described Chapter 8 of [Grokking Deep Reinforcement Learning](https://www.manning.com/books/grokking-deep-reinforcement-learning). NFQ was originally introduced in 2005 by Martin Reidmiller in a paper called __\"Neural Fitted Q Iteration - First Experiences with a Data Efficient Neural Reinforcement Method\"__. I have made a few optimizations to it. \n",
    "\n",
    "The environment Cartpole-v0 is used to test the algorithm, was created by OpenAi and is described in more detail here [cartpolev0](https://github.com/openai/gym/wiki/CartPole-v0) and here [doc](https://gym.openai.com/docs/).\n",
    "\n",
    "If the algorithm manages to execute the simulation of the cartpole for a 100 episodes, keeping it balanced for more then 195 steps the environment is said to be solved. \n",
    "\n",
    "\n",
    "#TODO: Add experience replay description"
   ]
  },
  {
   "cell_type": "code",
   "execution_count": 1,
   "metadata": {},
   "outputs": [],
   "source": [
    "# imports\n",
    "import random\n",
    "\n",
    "from itertools import cycle, count\n",
    "from collections import deque\n",
    "import numpy as np\n",
    "import torch\n",
    "import torch.nn as nn\n",
    "import torch.nn.functional as F\n",
    "import torch.optim as optim\n",
    "import gym"
   ]
  },
  {
   "cell_type": "markdown",
   "metadata": {},
   "source": [
    "## The agent\n",
    "\n",
    "The agent consists for several different elements. There is the FCQ - Fully Connected Q-function. Which contains the neural network. Below the network are two strategies:\n",
    "* Epsilon greedy strategy\n",
    "* Greedy strategy\n",
    "\n",
    "The difference between the two is that the first one selects a random action with epsilon possibility and the greedy choice the rest. The Greedy strategy is always greedy. \n",
    "\n",
    "Things to tune could be:\n",
    "* Demensions of the network\n",
    "* Activation function"
   ]
  },
  {
   "cell_type": "code",
   "execution_count": 2,
   "metadata": {},
   "outputs": [],
   "source": [
    "class FCQ(nn.Module):\n",
    "    \"\"\"\n",
    "    Fully Connected Q-function. \n",
    "    \n",
    "    Approximating state-action value function\n",
    "    \"\"\"\n",
    "    \n",
    "    def __init__(self,\n",
    "                input_dim,\n",
    "                output_dim,\n",
    "                hidden_dim=(512, 128),\n",
    "                activation_fun=F.relu):\n",
    "        super(FCQ, self).__init__()\n",
    "        self.activation_fun = activation_fun\n",
    "        \n",
    "        self.input_layer = nn.Linear(input_dim, hidden_dim[0])\n",
    "        \n",
    "        self.hidden_layers = nn.ModuleList()\n",
    "        for i in range(len(hidden_dim) - 1):\n",
    "            hidden_layer = nn.Linear(hidden_dim[i], hidden_dim[i+1])\n",
    "            self.hidden_layers.append(hidden_layer)\n",
    "            \n",
    "        self.output_layer = nn.Linear(hidden_dim[-1], output_dim)\n",
    "        \n",
    "        device = \"cpu\"\n",
    "        if torch.cuda.is_available():\n",
    "            device = \"cuda:0\"\n",
    "        self.device = torch.device(device)\n",
    "        self.to(self.device)\n",
    "    \n",
    "    def forward(self, state):\n",
    "        \n",
    "        x = state\n",
    "        \n",
    "        if not isinstance(x, torch.Tensor):\n",
    "            x = torch.tensor(x, \n",
    "                             device=self.device,\n",
    "                             dtype=torch.float32)\n",
    "            x = x.unsqueeze(0)\n",
    "        x = self.activation_fun(self.input_layer(x))\n",
    "        for hidden_layer in self.hidden_layers:\n",
    "            x = self.activation_fun(hidden_layer(x))\n",
    "        x = self.output_layer(x)\n",
    "        return x\n",
    "    \n",
    "    def load_into_torch(self, experiences):\n",
    "        \n",
    "        experiences = np.array(experiences)\n",
    "        batches = [np.vstack(sars) for sars in experiences.T]\n",
    "\n",
    "        states, actions, rewards, next_states, dones = batches\n",
    "        states = torch.from_numpy(states).float().to(self.device)\n",
    "        actions = torch.from_numpy(actions).long().to(self.device)\n",
    "        next_states = torch.from_numpy(next_states).float().to(self.device)\n",
    "        rewards = torch.from_numpy(rewards).float().to(self.device)\n",
    "        dones = torch.from_numpy(dones).float().to(self.device)\n",
    "        \n",
    "        return states, actions, rewards, next_states, dones\n",
    "        "
   ]
  },
  {
   "cell_type": "markdown",
   "metadata": {},
   "source": [
    "### The two strategies\n",
    "\n",
    "The `EGreedyStrategy` will offer a random action with espilon probability. The current implementation uses a decaying epsilon, meaning that it starts out with a very high epsilon (0.8) to enable the agent to explore a lot. then every step it will decay until it arrives to `min_epsilon` (0.1)\n",
    "\n",
    "Things to optimize:\n",
    "* epsilon\n",
    "* epsilon_decay\n",
    "* min_epsilon"
   ]
  },
  {
   "cell_type": "code",
   "execution_count": 3,
   "metadata": {},
   "outputs": [],
   "source": [
    "class EGreedyStrategy():\n",
    "    def __init__(self,\n",
    "                epsilon=0.8,\n",
    "                epsilon_decay=0.99,\n",
    "                min_epsilon=0.1):\n",
    "\n",
    "        self.epsilon = epsilon\n",
    "        self.epsilon_decay = epsilon_decay\n",
    "        self.min_epsilon = min_epsilon\n",
    "        \n",
    "    def get_epsilon(self):\n",
    "        \n",
    "        self.epsilon *= self.epsilon_decay \n",
    "        return min(self.epsilon, self.min_epsilon)\n",
    "        \n",
    "    def action(self, model, state):\n",
    "        with torch.no_grad():\n",
    "            q_values = model(state).cpu().detach().data.numpy().squeeze()\n",
    "        \n",
    "        if np.random.rand() > self.get_epsilon():\n",
    "            action = np.argmax(q_values)\n",
    "        else:\n",
    "            action = np.random.randint(len(q_values))\n",
    "        return action\n",
    "    \n",
    "class GreedyStrategy():\n",
    "    \n",
    "    def action(self, model, state):\n",
    "        with torch.no_grad():\n",
    "            q_values = model(state).cpu().detach().data.numpy().squeeze()\n",
    "            \n",
    "        return np.argmax(q_values)\n",
    "        "
   ]
  },
  {
   "cell_type": "markdown",
   "metadata": {},
   "source": [
    "## The Neural Fitted Q Iteration\n",
    "\n",
    "The following trains the agent in the environment. \n",
    "\n",
    "The agent is training with the Epsilon greedy strategy but is evaluated with the Greedy strategy (in the `evaluate_model` method). \n",
    "\n",
    "This is called _off-policy learning_, because it trains a policy different than the one used to create behavior. \n",
    "\n",
    "The big question here for me is that it is the Epsilon greedy strategy which wins?\n",
    "\n"
   ]
  },
  {
   "cell_type": "code",
   "execution_count": 4,
   "metadata": {},
   "outputs": [],
   "source": [
    "class NFQ():\n",
    "    \"\"\" \n",
    "        Agent class \n",
    "    \"\"\"\n",
    "    \n",
    "    def __init__(self,\n",
    "                 model,\n",
    "                 optimizer, # = optim.RMSprop(model, lr=0.0005),\n",
    "                 policy = EGreedyStrategy(),\n",
    "                 evaluation_policy = GreedyStrategy(),\n",
    "                 batch_size = 1024,\n",
    "                 epochs = 40,\n",
    "                 gamma = 0.99\n",
    "                ):\n",
    "        self.model = model\n",
    "        self.optimizer = optimizer\n",
    "        self.policy = policy\n",
    "        self.ev_policy = evaluation_policy\n",
    "        self.batch_size = batch_size\n",
    "        self.epochs = epochs\n",
    "        self.gamma = gamma\n",
    "        self.experiences = []\n",
    "        \n",
    "    def train(self, \n",
    "              env, \n",
    "              episodes):\n",
    "        \n",
    "        self.experiences = deque(maxlen=10000)\n",
    "        rewards = []\n",
    "        train_window = deque(maxlen=100)\n",
    "        scores_window = deque(maxlen=100)\n",
    "        \n",
    "        for i_episode in range(episodes):\n",
    "            state = env.reset()\n",
    "            rewards.append(0.0)\n",
    "            done = False\n",
    "            while not done:\n",
    "                # interaction\n",
    "                action = self.policy.action(self.model, state)\n",
    "                new_state, reward, done, _ = env.step(action)\n",
    "                \n",
    "                rewards[-1] += reward\n",
    "                \n",
    "                experience = (state, action, reward, new_state, done)\n",
    "                \n",
    "                self.experiences.append(experience)\n",
    "                \n",
    "                state = new_state                \n",
    "                \n",
    "            train_window.append(rewards[-1])\n",
    "            \n",
    "            # train model\n",
    "            if len(self.experiences) >= self.batch_size:\n",
    "                experiences = random.sample(self.experiences, self.batch_size)\n",
    "                experiences = self.model.load_into_torch(experiences)\n",
    "                for _ in range(self.epochs):\n",
    "                    self.optimize_model(experiences)\n",
    "                \n",
    "\n",
    "            mean_reward, std = self.evaluate_model(env)\n",
    "            scores_window.append(mean_reward)\n",
    "            \n",
    "            if i_episode % 100 == 0:\n",
    "                print('\\rEpisode {}\\tAverage Score: {:.2f}, train score {:.2f}'.format(i_episode, np.mean(scores_window), np.mean(train_window)))\n",
    "            if np.mean(train_window) >= 195:\n",
    "                print('\\nEnvironment solved in {:d} episodes!\\tAverage Score: {:.2f}'.format(i_episode - 100,\n",
    "                                                                                     np.mean(train_window)))\n",
    "                torch.save(agent.model.state_dict(), 'checkpoint.pth')\n",
    "                break\n",
    "        return rewards\n",
    "    def evaluate_model(self, env, n_episodes=1):\n",
    "        rewards = []\n",
    "\n",
    "        for _ in range(n_episodes):\n",
    "\n",
    "            state = env.reset()\n",
    "            rewards.append(0)\n",
    "            done = False\n",
    "            while not done:\n",
    "                action = self.ev_policy.action(self.model, state) \n",
    "                next_state, reward, done, _ = env.step(action)\n",
    "                \n",
    "                rewards[-1] += reward\n",
    "                state = next_state\n",
    "                   \n",
    "        return np.mean(rewards), np.std(rewards)\n",
    "        \n",
    "        \n",
    "    def optimize_model(self, experiences):\n",
    "        states, actions, rewards, next_states, dones = experiences\n",
    "        \n",
    "        max_q_next_state = (self.model(next_states) # Predict next state action values\n",
    "                .detach()                           # detach to ensure they wont be used to train model\n",
    "                .max(1)[0].unsqueeze(1))            # max, and unsqueeze\n",
    "        \n",
    "        target_qs = rewards + self.gamma * max_q_next_state * (1 - dones)\n",
    "        q_sa = self.model(states).gather(1, actions) # what would the model predict\n",
    "        td_errors = q_sa - target_qs\n",
    "        \n",
    "        value_loss = td_errors.pow(2).mul(0.5).mean() # MSE\n",
    "        self.optimizer.zero_grad()\n",
    "        value_loss.backward()\n",
    "        self.optimizer.step()\n",
    "                \n",
    "        "
   ]
  },
  {
   "cell_type": "code",
   "execution_count": 5,
   "metadata": {},
   "outputs": [],
   "source": [
    "# env\n",
    "env = gym.make('CartPole-v0')\n",
    "\n",
    "initial_state = env.reset()\n",
    "\n",
    "action = env.action_space.sample()\n",
    "state, reward, done, info = env.step(action)"
   ]
  },
  {
   "cell_type": "code",
   "execution_count": 6,
   "metadata": {},
   "outputs": [
    {
     "name": "stdout",
     "output_type": "stream",
     "text": [
      "state size  4\n",
      "number of actions  2\n"
     ]
    }
   ],
   "source": [
    "print(\"state size \", initial_state.shape[0])\n",
    "print(\"number of actions \", env.action_space.n)\n"
   ]
  },
  {
   "cell_type": "code",
   "execution_count": 7,
   "metadata": {},
   "outputs": [
    {
     "name": "stdout",
     "output_type": "stream",
     "text": [
      "Episode 0\tAverage Score: 10.00, train score 10.00\n",
      "Episode 100\tAverage Score: 9.33, train score 9.48\n"
     ]
    },
    {
     "name": "stderr",
     "output_type": "stream",
     "text": [
      "/Users/kifal2/Dropbox/git/reinforcementlearning/venv/lib/python3.7/site-packages/ipykernel_launcher.py:48: VisibleDeprecationWarning: Creating an ndarray from ragged nested sequences (which is a list-or-tuple of lists-or-tuples-or ndarrays with different lengths or shapes) is deprecated. If you meant to do this, you must specify 'dtype=object' when creating the ndarray\n"
     ]
    },
    {
     "name": "stdout",
     "output_type": "stream",
     "text": [
      "Episode 200\tAverage Score: 160.20, train score 157.63\n",
      "Episode 300\tAverage Score: 173.37, train score 174.02\n",
      "Episode 400\tAverage Score: 176.58, train score 176.56\n",
      "Episode 500\tAverage Score: 155.01, train score 153.69\n",
      "Episode 600\tAverage Score: 131.00, train score 130.68\n",
      "\n",
      "Environment solved in 594 episodes!\tAverage Score: 196.07\n"
     ]
    }
   ],
   "source": [
    "# train\n",
    "model = FCQ(initial_state.shape[0],\n",
    "            env.action_space.n,\n",
    "           hidden_dim=(512, 256))\n",
    "agent = NFQ(model, \n",
    "            optim.RMSprop(model.parameters(), lr=0.0005))\n",
    "rewards = agent.train(env, 2000)"
   ]
  },
  {
   "cell_type": "code",
   "execution_count": 8,
   "metadata": {},
   "outputs": [
    {
     "data": {
      "image/png": "[encoded data removed]",
      "text/plain": [
       "<Figure size 720x504 with 1 Axes>"
      ]
     },
     "metadata": {},
     "output_type": "display_data"
    }
   ],
   "source": [
    "import matplotlib.pyplot as plt\n",
    "import seaborn as sns\n",
    "%matplotlib inline\n",
    "\n",
    "def plot_rewards(rewards):\n",
    "    \"\"\"\n",
    "    Plot rewards.\n",
    "    \"\"\"\n",
    "    plt.style.use('seaborn-darkgrid')\n",
    "    fig = plt.figure(figsize=(10,7))\n",
    "    ax1 = fig.add_subplot(2, 1, 1)\n",
    "    \n",
    "    plt.subplots_adjust(hspace=.5)\n",
    "    \n",
    "    ax1.set_title('Episodic rewards')\n",
    "    ax1.plot(rewards, label='Episodic rewards')\n",
    "    ax1.set_xlabel(\"Episodes\")\n",
    "    ax1.set_ylabel(\"Rewards\")\n",
    "    \n",
    "    plt.show(fig)\n",
    "    \n",
    "plot_rewards(rewards)"
   ]
  },
  {
   "cell_type": "markdown",
   "metadata": {},
   "source": [
    "### Next steps:\n",
    "\n",
    "* Add simulation rendering. "
   ]
  },
  {
   "cell_type": "code",
   "execution_count": null,
   "metadata": {},
   "outputs": [],
   "source": []
  }
 ],
 "metadata": {
  "kernelspec": {
   "display_name": "Python 3",
   "language": "python",
   "name": "python3"
  },
  "language_info": {
   "codemirror_mode": {
    "name": "ipython",
    "version": 3
   },
   "file_extension": ".py",
   "mimetype": "text/x-python",
   "name": "python",
   "nbconvert_exporter": "python",
   "pygments_lexer": "ipython3",
   "version": "3.7.4"
  }
 },
 "nbformat": 4,
 "nbformat_minor": 4
}
