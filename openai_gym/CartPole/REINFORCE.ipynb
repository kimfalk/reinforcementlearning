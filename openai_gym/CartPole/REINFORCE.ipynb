{
 "cells": [
  {
   "cell_type": "markdown",
   "metadata": {},
   "source": [
    "# Solving CartPole-v0 with the policy gradient algorithm REINFOCE\n",
    "\n",
    "The following is an implementation of the [REINFOCE]() algorithm described in ([Policy Gradient Methods for\n",
    "Reinforcement Learning with Function Approximation](https://papers.nips.cc/paper/1713-policy-gradient-methods-for-reinforcement-learning-with-function-approximation.pdf)).\n",
    "\n",
    "The environment Cartpole-v0 is used to test the algorithm, was created by OpenAi and is described in more detail here cartpolev0 and here doc.\n",
    "\n",
    "If the algorithm manages to execute the simulation of the cartpole for a 100 episodes, keeping it balanced for more then 195 steps the environment is said to be solved."
   ]
  },
  {
   "cell_type": "code",
   "execution_count": 81,
   "metadata": {},
   "outputs": [],
   "source": [
    "import numpy as np\n",
    "import gym\n",
    "import torch\n",
    "import torch.nn as nn\n",
    "import torch.nn.functional as F\n",
    "from collections import deque\n",
    "from matplotlib import pyplot as plt\n",
    "from tqdm.notebook import trange, tqdm"
   ]
  },
  {
   "cell_type": "code",
   "execution_count": 37,
   "metadata": {},
   "outputs": [],
   "source": [
    "def print_step(state, reward, done, info):\n",
    "    print(f\"state: {state},\\nreward: {reward},\\ndone: {done},\\ninfo: {info}\")"
   ]
  },
  {
   "cell_type": "markdown",
   "metadata": {},
   "source": [
    "A quick look at the environment:"
   ]
  },
  {
   "cell_type": "code",
   "execution_count": 38,
   "metadata": {},
   "outputs": [],
   "source": [
    "env = gym.make('CartPole-v0')"
   ]
  },
  {
   "cell_type": "code",
   "execution_count": 39,
   "metadata": {},
   "outputs": [
    {
     "name": "stdout",
     "output_type": "stream",
     "text": [
      "state: [-0.03372556 -0.16362425  0.02842715  0.26192135],\n",
      "reward: 1.0,\n",
      "done: False,\n",
      "info: {}\n"
     ]
    }
   ],
   "source": [
    "initial_state = env.reset()\n",
    "action = env.action_space.sample()\n",
    "state, reward, done, info = env.step(action)\n",
    "print_step(state, reward, done, info)"
   ]
  },
  {
   "cell_type": "code",
   "execution_count": 40,
   "metadata": {},
   "outputs": [],
   "source": [
    "def running_mean(x, N=50):\n",
    "    kernel = np.ones(N)\n",
    "    conv_len = x.shape[0]-N\n",
    "    y = np.zeros(conv_len)\n",
    "    for i in range(conv_len):\n",
    "        y[i] = kernel @ x[i:i+N]\n",
    "        y[i] /= N\n",
    "    return y"
   ]
  },
  {
   "cell_type": "markdown",
   "metadata": {},
   "source": [
    "Create the policy network"
   ]
  },
  {
   "cell_type": "code",
   "execution_count": 89,
   "metadata": {},
   "outputs": [],
   "source": [
    "class PolicyNetwork(nn.Module):\n",
    "    \n",
    "    def __init__(self, \n",
    "                 input_dim=4, \n",
    "                 hidden_dim=[128, 64], \n",
    "                 output_dim=2):\n",
    "        super(PolicyNetwork, self).__init__()\n",
    "        self.output_dim = output_dim\n",
    "        self.input_layer = nn.Linear(input_dim, hidden_dim[0])\n",
    "        \n",
    "        self.hidden_layers = nn.ModuleList()\n",
    "        for i in range(len(hidden_dim) - 1):\n",
    "            hidden_layer = nn.Linear(hidden_dim[i], hidden_dim[i+1])\n",
    "            self.hidden_layers.append(hidden_layer)\n",
    "        \n",
    "        self.output_layer = nn.Linear(hidden_dim[-1], output_dim)\n",
    "        \n",
    "        \n",
    "    def forward(self, state):\n",
    "        \n",
    "        x = F.relu(self.input_layer(state))\n",
    "        for hidden in self.hidden_layers:\n",
    "            x = F.leaky_relu(hidden(x))\n",
    "        x = F.softmax(self.output_layer(x), dim=-1)\n",
    "        \n",
    "        return x\n",
    "    \n",
    "model = PolicyNetwork()\n",
    "learning_rate = 0.009\n",
    "optimizer = torch.optim.Adam(model.parameters(), lr=learning_rate)"
   ]
  },
  {
   "cell_type": "code",
   "execution_count": 90,
   "metadata": {},
   "outputs": [
    {
     "name": "stdout",
     "output_type": "stream",
     "text": [
      "pred:  tensor([0.4820, 0.5180], grad_fn=<SoftmaxBackward>)\n",
      "state: [ 0.02407491 -0.17618054  0.04156761  0.35399204],\n",
      "reward: 1.0,\n",
      "done: False,\n",
      "info: {}\n"
     ]
    }
   ],
   "source": [
    "initial_state = env.reset()\n",
    "pred = model(torch.from_numpy(initial_state).float())\n",
    "action = np.random.choice(np.array([0,1]), p=pred.data.numpy())\n",
    "state, reward, done, info = env.step(action)\n",
    "print(\"pred: \",pred)\n",
    "print_step(state, reward, done, info)"
   ]
  },
  {
   "cell_type": "code",
   "execution_count": 91,
   "metadata": {},
   "outputs": [],
   "source": [
    "def discount_rewards(rewards, gamma=.99):\n",
    "    lenr = len(rewards)\n",
    "    discounted_return = torch.pow(gamma, torch.arange(lenr).float()) * rewards\n",
    "    discounted_return /= discounted_return.max()\n",
    "    return discounted_return"
   ]
  },
  {
   "cell_type": "code",
   "execution_count": 92,
   "metadata": {},
   "outputs": [],
   "source": [
    "def loss_fn(preds, rewards):\n",
    "    return -1 * torch.sum(rewards * torch.log(preds))"
   ]
  },
  {
   "cell_type": "markdown",
   "metadata": {},
   "source": [
    "Training the REINFORCE ALGORITHM"
   ]
  },
  {
   "cell_type": "code",
   "execution_count": 93,
   "metadata": {},
   "outputs": [
    {
     "data": {
      "application/vnd.jupyter.widget-view+json": {
       "model_id": "f2dc2bce506d4bd6a8732f0d57df9018",
       "version_major": 2,
       "version_minor": 0
      },
      "text/plain": [
       "HBox(children=(FloatProgress(value=0.0, max=5000.0), HTML(value='')))"
      ]
     },
     "metadata": {},
     "output_type": "display_data"
    },
    {
     "name": "stdout",
     "output_type": "stream",
     "text": [
      "Episode 0\tAverage Score: 30.00\n",
      "Episode 100\tAverage Score: 42.90\n",
      "Episode 200\tAverage Score: 23.56\n",
      "Episode 300\tAverage Score: 14.98\n",
      "Episode 400\tAverage Score: 9.32\n",
      "Episode 500\tAverage Score: 9.31\n",
      "Episode 600\tAverage Score: 9.32\n",
      "Episode 700\tAverage Score: 9.34\n",
      "Episode 800\tAverage Score: 9.41\n",
      "Episode 900\tAverage Score: 9.30\n",
      "Episode 1000\tAverage Score: 9.30\n",
      "Episode 1100\tAverage Score: 9.34\n",
      "Episode 1200\tAverage Score: 9.35\n",
      "Episode 1300\tAverage Score: 9.31\n",
      "Episode 1400\tAverage Score: 9.29\n",
      "Episode 1500\tAverage Score: 9.39\n",
      "Episode 1600\tAverage Score: 9.30\n",
      "Episode 1700\tAverage Score: 9.38\n",
      "Episode 1800\tAverage Score: 9.44\n",
      "Episode 1900\tAverage Score: 9.40\n",
      "Episode 2000\tAverage Score: 9.44\n",
      "Episode 2100\tAverage Score: 9.37\n",
      "Episode 2200\tAverage Score: 9.33\n",
      "Episode 2300\tAverage Score: 9.33\n",
      "Episode 2400\tAverage Score: 9.33\n",
      "Episode 2500\tAverage Score: 9.34\n",
      "Episode 2600\tAverage Score: 9.28\n",
      "Episode 2700\tAverage Score: 9.39\n",
      "Episode 2800\tAverage Score: 9.31\n",
      "Episode 2900\tAverage Score: 9.34\n",
      "Episode 3000\tAverage Score: 9.31\n",
      "Episode 3100\tAverage Score: 9.30\n",
      "Episode 3200\tAverage Score: 9.39\n",
      "Episode 3300\tAverage Score: 9.36\n",
      "Episode 3400\tAverage Score: 9.31\n",
      "Episode 3500\tAverage Score: 9.29\n",
      "Episode 3600\tAverage Score: 9.36\n",
      "Episode 3700\tAverage Score: 9.34\n",
      "Episode 3800\tAverage Score: 9.38\n",
      "Episode 3900\tAverage Score: 9.54\n",
      "Episode 4000\tAverage Score: 9.51\n",
      "Episode 4100\tAverage Score: 9.28\n",
      "Episode 4200\tAverage Score: 9.36\n",
      "Episode 4300\tAverage Score: 9.38\n",
      "Episode 4400\tAverage Score: 9.32\n",
      "Episode 4500\tAverage Score: 9.41\n",
      "Episode 4600\tAverage Score: 9.38\n",
      "Episode 4700\tAverage Score: 9.32\n",
      "Episode 4800\tAverage Score: 9.34\n",
      "Episode 4900\tAverage Score: 9.45\n",
      "\n"
     ]
    }
   ],
   "source": [
    "MAX_DUR = 200\n",
    "MAX_EPISODES = 5000\n",
    "gamma = 0.99\n",
    "\n",
    "action_space = np.array([0,1])\n",
    "score = []\n",
    "\n",
    "scores_window = deque(maxlen=100)\n",
    "\n",
    "def interact_with_environment():\n",
    "    #start the environment.\n",
    "    state = env.reset()\n",
    "    done = False\n",
    "    experiences = []\n",
    "    episode_reward = 0\n",
    "    #interacting with the environment, continue untill the pole falls (done == True) or max 200 steps. \n",
    "    for t in range(MAX_DUR):\n",
    "        action_prob = model(torch.from_numpy(state).float()).detach()\n",
    "        action = np.random.choice(action_space, p=action_prob.data.numpy())\n",
    "        next_state, reward, done, info = env.step(action)\n",
    "        \n",
    "        experiences.append((state, action, reward * (1-done)))\n",
    "        episode_reward += 1\n",
    "        state = next_state\n",
    "        # the pole fell. \n",
    "        if done:\n",
    "            break\n",
    "    return experiences, episode_reward\n",
    "    \n",
    "def train_model(experiences):\n",
    "    # train the model\n",
    "    \n",
    "    reward_batch = torch.Tensor([r for (s,a,r) in experiences]).flip(dims=(0,))\n",
    "    discounted_reward = discount_rewards(reward_batch)\n",
    "\n",
    "    state_batch = torch.Tensor([s for (s,a,r) in experiences])\n",
    "    action_batch = torch.Tensor([a for (s,a,r) in experiences])\n",
    "    pred_batch = model(state_batch)\n",
    "    prob_batch = pred_batch.gather(dim=1, index=action_batch.long().view(-1,1)).squeeze()\n",
    "\n",
    "    loss = loss_fn(prob_batch, discounted_reward)\n",
    "    optimizer.zero_grad()\n",
    "    loss.backward()\n",
    "    optimizer.step()\n",
    "    \n",
    "    \n",
    "    \n",
    "for episode in tqdm(range(MAX_EPISODES)):\n",
    "\n",
    "    experiences, rewards = interact_with_environment()\n",
    "    scores_window.append(rewards)\n",
    "    ep_len = len(experiences)\n",
    "    score.append(ep_len)\n",
    "\n",
    "    train_model(experiences)\n",
    "    \n",
    "    if episode % 100 == 0:\n",
    "                print('\\rEpisode {}\\tAverage Score: {:.2f}'.format(episode, np.mean(scores_window)))\n",
    "    if np.mean(scores_window) >= 195:\n",
    "        print('\\nEnvironment solved in {:d} episodes!\\tAverage Score: {:.2f}'.format(episode - 100,\n",
    "                                                                             np.mean(scores_window)))\n",
    "        torch.save(agent.model.state_dict(), 'checkpoint.pth')\n",
    "        break\n",
    "    \n",
    "        "
   ]
  },
  {
   "cell_type": "code",
   "execution_count": 77,
   "metadata": {},
   "outputs": [
    {
     "ename": "ValueError",
     "evalue": "negative dimensions are not allowed",
     "output_type": "error",
     "traceback": [
      "\u001b[0;31m---------------------------------------------------------------------------\u001b[0m",
      "\u001b[0;31mValueError\u001b[0m                                Traceback (most recent call last)",
      "\u001b[0;32m<ipython-input-77-cf38bf47c8d8>\u001b[0m in \u001b[0;36m<module>\u001b[0;34m\u001b[0m\n\u001b[1;32m      1\u001b[0m \u001b[0mscore\u001b[0m \u001b[0;34m=\u001b[0m \u001b[0mnp\u001b[0m\u001b[0;34m.\u001b[0m\u001b[0marray\u001b[0m\u001b[0;34m(\u001b[0m\u001b[0mscore\u001b[0m\u001b[0;34m)\u001b[0m\u001b[0;34m\u001b[0m\u001b[0;34m\u001b[0m\u001b[0m\n\u001b[0;32m----> 2\u001b[0;31m \u001b[0mavg_score\u001b[0m \u001b[0;34m=\u001b[0m \u001b[0mrunning_mean\u001b[0m\u001b[0;34m(\u001b[0m\u001b[0mscore\u001b[0m\u001b[0;34m,\u001b[0m \u001b[0;36m50\u001b[0m\u001b[0;34m)\u001b[0m\u001b[0;34m\u001b[0m\u001b[0;34m\u001b[0m\u001b[0m\n\u001b[0m\u001b[1;32m      3\u001b[0m \u001b[0;34m\u001b[0m\u001b[0m\n\u001b[1;32m      4\u001b[0m \u001b[0mplt\u001b[0m\u001b[0;34m.\u001b[0m\u001b[0mfigure\u001b[0m\u001b[0;34m(\u001b[0m\u001b[0mfigsize\u001b[0m\u001b[0;34m=\u001b[0m\u001b[0;34m(\u001b[0m\u001b[0;36m10\u001b[0m\u001b[0;34m,\u001b[0m\u001b[0;36m7\u001b[0m\u001b[0;34m)\u001b[0m\u001b[0;34m)\u001b[0m\u001b[0;34m\u001b[0m\u001b[0;34m\u001b[0m\u001b[0m\n\u001b[1;32m      5\u001b[0m \u001b[0mplt\u001b[0m\u001b[0;34m.\u001b[0m\u001b[0mylabel\u001b[0m\u001b[0;34m(\u001b[0m\u001b[0;34m\"Episode Duration\"\u001b[0m\u001b[0;34m,\u001b[0m\u001b[0mfontsize\u001b[0m\u001b[0;34m=\u001b[0m\u001b[0;36m22\u001b[0m\u001b[0;34m)\u001b[0m\u001b[0;34m\u001b[0m\u001b[0;34m\u001b[0m\u001b[0m\n",
      "\u001b[0;32m<ipython-input-40-7b303b969ce5>\u001b[0m in \u001b[0;36mrunning_mean\u001b[0;34m(x, N)\u001b[0m\n\u001b[1;32m      2\u001b[0m     \u001b[0mkernel\u001b[0m \u001b[0;34m=\u001b[0m \u001b[0mnp\u001b[0m\u001b[0;34m.\u001b[0m\u001b[0mones\u001b[0m\u001b[0;34m(\u001b[0m\u001b[0mN\u001b[0m\u001b[0;34m)\u001b[0m\u001b[0;34m\u001b[0m\u001b[0;34m\u001b[0m\u001b[0m\n\u001b[1;32m      3\u001b[0m     \u001b[0mconv_len\u001b[0m \u001b[0;34m=\u001b[0m \u001b[0mx\u001b[0m\u001b[0;34m.\u001b[0m\u001b[0mshape\u001b[0m\u001b[0;34m[\u001b[0m\u001b[0;36m0\u001b[0m\u001b[0;34m]\u001b[0m\u001b[0;34m-\u001b[0m\u001b[0mN\u001b[0m\u001b[0;34m\u001b[0m\u001b[0;34m\u001b[0m\u001b[0m\n\u001b[0;32m----> 4\u001b[0;31m     \u001b[0my\u001b[0m \u001b[0;34m=\u001b[0m \u001b[0mnp\u001b[0m\u001b[0;34m.\u001b[0m\u001b[0mzeros\u001b[0m\u001b[0;34m(\u001b[0m\u001b[0mconv_len\u001b[0m\u001b[0;34m)\u001b[0m\u001b[0;34m\u001b[0m\u001b[0;34m\u001b[0m\u001b[0m\n\u001b[0m\u001b[1;32m      5\u001b[0m     \u001b[0;32mfor\u001b[0m \u001b[0mi\u001b[0m \u001b[0;32min\u001b[0m \u001b[0mrange\u001b[0m\u001b[0;34m(\u001b[0m\u001b[0mconv_len\u001b[0m\u001b[0;34m)\u001b[0m\u001b[0;34m:\u001b[0m\u001b[0;34m\u001b[0m\u001b[0;34m\u001b[0m\u001b[0m\n\u001b[1;32m      6\u001b[0m         \u001b[0my\u001b[0m\u001b[0;34m[\u001b[0m\u001b[0mi\u001b[0m\u001b[0;34m]\u001b[0m \u001b[0;34m=\u001b[0m \u001b[0mkernel\u001b[0m \u001b[0;34m@\u001b[0m \u001b[0mx\u001b[0m\u001b[0;34m[\u001b[0m\u001b[0mi\u001b[0m\u001b[0;34m:\u001b[0m\u001b[0mi\u001b[0m\u001b[0;34m+\u001b[0m\u001b[0mN\u001b[0m\u001b[0;34m]\u001b[0m\u001b[0;34m\u001b[0m\u001b[0;34m\u001b[0m\u001b[0m\n",
      "\u001b[0;31mValueError\u001b[0m: negative dimensions are not allowed"
     ]
    }
   ],
   "source": [
    "score = np.array(score)\n",
    "avg_score = running_mean(score, 50)\n",
    "\n",
    "plt.figure(figsize=(10,7))\n",
    "plt.ylabel(\"Episode Duration\",fontsize=22)\n",
    "plt.xlabel(\"Training Epochs\",fontsize=22)\n",
    "plt.plot(avg_score, color='green')\n"
   ]
  },
  {
   "cell_type": "markdown",
   "metadata": {},
   "source": []
  },
  {
   "cell_type": "code",
   "execution_count": 12,
   "metadata": {},
   "outputs": [
    {
     "data": {
      "text/plain": [
       "[<matplotlib.lines.Line2D at 0x10957db90>]"
      ]
     },
     "execution_count": 12,
     "metadata": {},
     "output_type": "execute_result"
    },
    {
     "data": {
      "image/png": "[encoded data removed]",
      "text/plain": [
       "<Figure size 720x504 with 1 Axes>"
      ]
     },
     "metadata": {
      "needs_background": "light"
     },
     "output_type": "display_data"
    }
   ],
   "source": [
    "score1 = np.array(score)\n",
    "avg_score1 = running_mean(score1, 50)\n",
    "\n",
    "plt.figure(figsize=(10,7))\n",
    "plt.ylabel(\"Episode Duration\",fontsize=22)\n",
    "plt.xlabel(\"Training Epochs\",fontsize=22)\n",
    "plt.plot(avg_score1, color='green')"
   ]
  },
  {
   "cell_type": "code",
   "execution_count": null,
   "metadata": {},
   "outputs": [],
   "source": []
  }
 ],
 "metadata": {
  "kernelspec": {
   "display_name": "Python 3",
   "language": "python",
   "name": "python3"
  },
  "language_info": {
   "codemirror_mode": {
    "name": "ipython",
    "version": 3
   },
   "file_extension": ".py",
   "mimetype": "text/x-python",
   "name": "python",
   "nbconvert_exporter": "python",
   "pygments_lexer": "ipython3",
   "version": "3.7.4"
  }
 },
 "nbformat": 4,
 "nbformat_minor": 4
}
