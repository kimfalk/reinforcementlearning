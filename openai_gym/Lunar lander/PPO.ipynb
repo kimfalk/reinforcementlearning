{
 "cells": [
  {
   "cell_type": "code",
   "execution_count": 1,
   "metadata": {},
   "outputs": [
    {
     "name": "stdout",
     "output_type": "stream",
     "text": [
      "Requirement already satisfied: box2d in /Users/kifal2/Dropbox/git/reinforcementlearning/venv/lib/python3.8/site-packages (2.3.10)\n",
      "Requirement already satisfied: gym in /Users/kifal2/Dropbox/git/reinforcementlearning/venv/lib/python3.8/site-packages (0.17.3)\n",
      "Requirement already satisfied: scipy in /Users/kifal2/Dropbox/git/reinforcementlearning/venv/lib/python3.8/site-packages (from gym) (1.5.2)\n",
      "Requirement already satisfied: cloudpickle<1.7.0,>=1.2.0 in /Users/kifal2/Dropbox/git/reinforcementlearning/venv/lib/python3.8/site-packages (from gym) (1.6.0)\n",
      "Requirement already satisfied: numpy>=1.10.4 in /Users/kifal2/Dropbox/git/reinforcementlearning/venv/lib/python3.8/site-packages (from gym) (1.19.2)\n",
      "Requirement already satisfied: pyglet<=1.5.0,>=1.4.0 in /Users/kifal2/Dropbox/git/reinforcementlearning/venv/lib/python3.8/site-packages (from gym) (1.5.0)\n",
      "Requirement already satisfied: future in /Users/kifal2/Dropbox/git/reinforcementlearning/venv/lib/python3.8/site-packages (from pyglet<=1.5.0,>=1.4.0->gym) (0.18.2)\n",
      "Requirement already satisfied: tqdm in /Users/kifal2/Dropbox/git/reinforcementlearning/venv/lib/python3.8/site-packages (4.50.0)\n"
     ]
    }
   ],
   "source": [
    "#! brew install boost-python\n",
    "! pip install box2d\n",
    "! pip install gym\n",
    "! pip install tqdm"
   ]
  },
  {
   "cell_type": "code",
   "execution_count": null,
   "metadata": {},
   "outputs": [],
   "source": []
  },
  {
   "cell_type": "code",
   "execution_count": 2,
   "metadata": {},
   "outputs": [],
   "source": [
    "#! pip install git+https://github.com/openai/gym.git#egg=gym[box2d]"
   ]
  },
  {
   "cell_type": "code",
   "execution_count": 3,
   "metadata": {},
   "outputs": [],
   "source": [
    "import numpy as np\n",
    "import random\n",
    "import torch \n",
    "import torch.nn as nn\n",
    "import gym\n",
    "\n",
    "from tqdm.notebook import trange, tqdm\n",
    "\n",
    "from IPython import display\n",
    "import matplotlib.pyplot as plt\n",
    "%matplotlib inline\n"
   ]
  },
  {
   "cell_type": "code",
   "execution_count": 4,
   "metadata": {},
   "outputs": [],
   "source": [
    "#import gym\n",
    "from gym import wrappers\n",
    "\n",
    "env = gym.make('LunarLander-v2')\n",
    "env = wrappers.Monitor(env, \"./gym-results\", force=True)\n",
    "env.reset()\n",
    "for _ in range(1000):\n",
    "    action = env.action_space.sample()\n",
    "    observation, reward, done, info = env.step(action)\n",
    "    if done: break\n",
    "env.close()"
   ]
  },
  {
   "cell_type": "code",
   "execution_count": 5,
   "metadata": {},
   "outputs": [],
   "source": [
    "import gym\n",
    "\n",
    "env = gym.make(\"LunarLander-v2\")\n",
    "env.reset()\n",
    "\n",
    "for _ in range(1000):\n",
    "    env.render()\n",
    "    _, _, is_done, _ = env.step(env.action_space.sample()) #take a random action\n",
    "    \n",
    "    if is_done:\n",
    "        break\n",
    "\n",
    "env.close()"
   ]
  },
  {
   "cell_type": "code",
   "execution_count": 6,
   "metadata": {},
   "outputs": [],
   "source": [
    "class ValueFunction(nn.Module):\n",
    "    def __init__(self, input_size):\n",
    "        super().__init__()\n",
    "        \n",
    "        self.V = nn.Sequential(\n",
    "            nn.Linear(input_size, 128),\n",
    "            nn.SELU(),\n",
    "            nn.Linear(128, 256),\n",
    "            nn.SELU(),\n",
    "            nn.Linear(256, 1),\n",
    "        )\n",
    "        \n",
    "    def forward(self, x):\n",
    "        v = self.V(x)\n",
    "\n",
    "        return v"
   ]
  },
  {
   "cell_type": "code",
   "execution_count": 7,
   "metadata": {},
   "outputs": [],
   "source": [
    "class SoftmaxPolicy(nn.Module):\n",
    "    def __init__(self, input_size, num_actions):\n",
    "        super().__init__()\n",
    "        \n",
    "        self.input_size = input_size\n",
    "        self.num_actions = num_actions\n",
    "        \n",
    "        self.pi = nn.Sequential(\n",
    "            nn.Linear(input_size, 128),\n",
    "            nn.SELU(),\n",
    "            nn.Linear(128, 256),\n",
    "            nn.SELU(),\n",
    "            nn.Linear(256, 256),\n",
    "            nn.SELU(),\n",
    "            nn.Linear(256, num_actions),\n",
    "            nn.LogSoftmax(dim=1),\n",
    "        )\n",
    "        \n",
    "    def forward(self, x):\n",
    "        logits = self.pi(x)\n",
    "        \n",
    "        return logits"
   ]
  },
  {
   "cell_type": "code",
   "execution_count": 8,
   "metadata": {},
   "outputs": [],
   "source": [
    "cc = 0 "
   ]
  },
  {
   "cell_type": "code",
   "execution_count": 9,
   "metadata": {},
   "outputs": [],
   "source": [
    "def sample_action(logits):\n",
    "    return Categorical(logits=logits).sample()\n"
   ]
  },
  {
   "cell_type": "code",
   "execution_count": 10,
   "metadata": {},
   "outputs": [
    {
     "data": {
      "text/plain": [
       "tensor(3)"
      ]
     },
     "execution_count": 10,
     "metadata": {},
     "output_type": "execute_result"
    }
   ],
   "source": [
    "from torch.distributions.categorical import Categorical\n",
    "import itertools\n",
    "\n",
    "obs = env.reset()\n",
    "\n",
    "device = torch.device(\"cuda\" if torch.cuda.is_available() else \"cpu\")\n",
    "\n",
    "pi = SoftmaxPolicy(input_size=8, num_actions=4).to(device)\n",
    "old_pi = SoftmaxPolicy(input_size=8, num_actions=4).to(device)\n",
    "value_fun = ValueFunction(input_size=8).to(device)\n",
    "\n",
    "state = torch.from_numpy(obs).float()\n",
    "logits = pi(state.unsqueeze(0).to(device))\n",
    "logits.squeeze(0)\n",
    "\n",
    "sample_action(logits.squeeze(0).cpu())\n"
   ]
  },
  {
   "cell_type": "code",
   "execution_count": 11,
   "metadata": {},
   "outputs": [],
   "source": [
    "γ = 0.99\n",
    "\n",
    "def collect_experience(env, policy):\n",
    "    obs = env.reset()\n",
    "    \n",
    "    memory = []\n",
    "    rewards = []\n",
    "    states = []\n",
    "    actions = []\n",
    "    logps = []\n",
    "    \n",
    "    policy.eval()\n",
    "    \n",
    "    with torch.no_grad():\n",
    "        for i in itertools.count():\n",
    "            state = torch.from_numpy(obs).float()\n",
    "            logits = policy(state.unsqueeze(0).to(device))\n",
    "            act = sample_action(logits.cpu().squeeze())\n",
    "            \n",
    "            obs, reward, is_done, onfi = env.step(act.item())\n",
    "            \n",
    "            states.append(state)\n",
    "            actions.append(act)\n",
    "            rewards.append(torch.tensor(reward/200.0, dtype=torch.float))\n",
    "            logps.append(logits[0, act.item()])\n",
    "            \n",
    "            if is_done:\n",
    "                break\n",
    "                \n",
    "    values = []\n",
    "    acc = 0.0\n",
    "    for r in reversed(rewards):\n",
    "        acc = γ * acc + r\n",
    "        values.insert(0, acc)\n",
    "    \n",
    "    return zip(states, actions, values, logps), np.sum(rewards)"
   ]
  },
  {
   "cell_type": "code",
   "execution_count": 12,
   "metadata": {},
   "outputs": [],
   "source": [
    "import math\n",
    "from torch.utils.data import DataLoader\n",
    "from torch.nn.utils import clip_grad_value_\n",
    "\n",
    "params = itertools.chain(pi.parameters(), value_fun.parameters())\n",
    "optim = torch.optim.Adam(params, lr=1e-4)\n"
   ]
  },
  {
   "cell_type": "code",
   "execution_count": null,
   "metadata": {},
   "outputs": [
    {
     "data": {
      "application/vnd.jupyter.widget-view+json": {
       "model_id": "4534ff074f6a4fc49eee160859215dfb",
       "version_major": 2,
       "version_minor": 0
      },
      "text/plain": [
       "HBox(children=(HTML(value=''), FloatProgress(value=0.0, max=800.0), HTML(value='')))"
      ]
     },
     "metadata": {},
     "output_type": "display_data"
    },
    {
     "name": "stdout",
     "output_type": "stream",
     "text": [
      "\r",
      "Episode 0\tAverage Score: -31.22\n"
     ]
    }
   ],
   "source": [
    "from collections import deque\n",
    "\n",
    "eps = 0.2\n",
    "step = 0\n",
    "rewards = []\n",
    "scores_window = deque(maxlen=100)\n",
    "for loop in trange(800):\n",
    "    \n",
    "    rewards.append(0)\n",
    "    experiences = []\n",
    "    \n",
    "\n",
    "    for episode in range(30):\n",
    "        exp, reward = collect_experience(env, pi)\n",
    "        experiences.extend( exp )\n",
    "        rewards[loop] += reward\n",
    "\n",
    "    scores_window.append(rewards[loop])\n",
    "            \n",
    "    dataloader = DataLoader(experiences, batch_size=32, shuffle=True)\n",
    "    \n",
    "    value_fun.train()\n",
    "    pi.train()\n",
    "    \n",
    "    old_pi.load_state_dict( pi.state_dict())\n",
    "    old_pi.eval()\n",
    "\n",
    "    for state, action, value, logp_old in dataloader:\n",
    "        step += 1\n",
    "        state_on_device = state.to(device)\n",
    "        state_value = value_fun(state_on_device)\n",
    "        value_loss = nn.functional.mse_loss(input=state_value, \n",
    "                                     target=value.unsqueeze(1).to(device))\n",
    "        \n",
    "        logits = pi(state_on_device)\n",
    "        logp = logits.gather(dim=1, index=action.unsqueeze(1).to(device))\n",
    "        \n",
    "        with torch.no_grad():\n",
    "            advantage = value.unsqueeze(1).to(device) - state_value\n",
    "            \n",
    "        ratio = (logp - logp_old.unsqueeze(1).to(device)).exp()\n",
    "        entropy = - logits * logits.exp()\n",
    "        \n",
    "        pi_loss = - torch.min( ratio * advantage, \n",
    "                             torch.clamp(ratio, min=1.0 - eps, max = 1.0 + eps) * advantage) - 1e-4 * entropy\n",
    "        pi_loss = pi_loss.mean()\n",
    "        \n",
    "        loss = pi_loss + value_loss\n",
    "        \n",
    "        optim.zero_grad()\n",
    "        loss.backward()\n",
    "        \n",
    "        clip_grad_value_( params, 1.0)\n",
    "        optim.step()\n",
    "    if loop % 25 == 0:\n",
    "            print('\\rEpisode {}\\tAverage Score: {:.2f}'.format(loop, np.mean(scores_window)))\n",
    "        \n",
    "     "
   ]
  },
  {
   "cell_type": "code",
   "execution_count": null,
   "metadata": {},
   "outputs": [],
   "source": [
    "\n",
    "for _ in range(20):\n",
    "    \n",
    "    obs = env.reset()\n",
    "        \n",
    "    with torch.no_grad():\n",
    "        for i in range(1000):\n",
    "            env.render()\n",
    "            state = torch.from_numpy(obs).float()\n",
    "            logits = pi(state.unsqueeze(0).to(device))\n",
    "            act = sample_action(logits.cpu().squeeze())\n",
    "            \n",
    "            obs, _, is_done, _ = env.step(act.item()) #take a random action\n",
    "\n",
    "            if is_done:\n",
    "                break\n",
    "\n",
    "env.close()"
   ]
  },
  {
   "cell_type": "code",
   "execution_count": null,
   "metadata": {},
   "outputs": [],
   "source": []
  }
 ],
 "metadata": {
  "kernelspec": {
   "display_name": "Python 3",
   "language": "python",
   "name": "python3"
  },
  "language_info": {
   "codemirror_mode": {
    "name": "ipython",
    "version": 3
   },
   "file_extension": ".py",
   "mimetype": "text/x-python",
   "name": "python",
   "nbconvert_exporter": "python",
   "pygments_lexer": "ipython3",
   "version": "3.8.5"
  }
 },
 "nbformat": 4,
 "nbformat_minor": 4
}
